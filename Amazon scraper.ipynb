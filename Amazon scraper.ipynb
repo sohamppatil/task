{
 "cells": [
  {
   "cell_type": "code",
   "execution_count": 1,
   "id": "f211baa2",
   "metadata": {},
   "outputs": [],
   "source": [
    "from selenium import webdriver\n",
    "from webdriver_manager.chrome import ChromeDriverManager\n",
    "from selenium.webdriver.common.keys import Keys\n",
    "from selenium.webdriver.support import expected_conditions as EC\n",
    "from selenium.webdriver.common.by import By\n",
    "from selenium.webdriver.support.wait import WebDriverWait\n",
    "import os\n",
    "import csv\n",
    "import wget\n",
    "import time\n",
    "import pandas as pd\n",
    "import warnings\n",
    "warnings.filterwarnings('ignore')"
   ]
  },
  {
   "cell_type": "code",
   "execution_count": 642,
   "id": "2319cc59",
   "metadata": {},
   "outputs": [],
   "source": [
    "\n",
    "#df = pd.read_csv('Amazon Scraping - Sheet1.csv')\n",
    "#num = df['id'].tolist\n",
    "#asin = df['Asin'].tolist\n",
    "#cntry = df['country'].tolist\n",
    "filename = open('Amazon SCraping - Sheet1.csv', 'r')\n",
    "file = csv.DictReader(filename)\n",
    "num = []\n",
    "asin = []\n",
    "cntry = []\n",
    "total=[]\n",
    "for col in file:\n",
    "    num.append(col['id'])\n",
    "    asin.append(col['Asin'])\n",
    "    cntry.append(col['country'])\n",
    "    total.append(col['id']+\".\"+col['Asin']+\".\"+col['country'])\n",
    "\n",
    "\n",
    "p_titles=[]\n",
    "p_price=[]\n",
    "p_imgs=[]\n",
    "#p_abt=[]\n",
    "p_desc=[]\n",
    "\n"
   ]
  },
  {
   "cell_type": "code",
   "execution_count": 479,
   "id": "411c82ec",
   "metadata": {},
   "outputs": [],
   "source": [
    "#Start from here"
   ]
  },
  {
   "cell_type": "code",
   "execution_count": 947,
   "id": "bfa46f8f",
   "metadata": {},
   "outputs": [
    {
     "name": "stdout",
     "output_type": "stream",
     "text": [
      "\n"
     ]
    },
    {
     "name": "stderr",
     "output_type": "stream",
     "text": [
      "[WDM] - ====== WebDriver manager ======\n",
      "[WDM] - Current google-chrome version is 103.0.5060\n",
      "[WDM] - Get LATEST chromedriver version for 103.0.5060 google-chrome\n",
      "[WDM] - Driver [/Users/sohampatil/.wdm/drivers/chromedriver/mac64/103.0.5060.53/chromedriver] found in cache\n"
     ]
    }
   ],
   "source": [
    "#driver_path = \"Macintosh HD/Users/sohampatil/Downloads/chromewebdriver/chromedriver.exe/\"\n",
    "driver = webdriver.Chrome(ChromeDriverManager().install())\n",
    "\n",
    "i=500\n",
    "link = \"https://www.amazon.\"+cntry[i]+\"/dp/\"+asin[i]\n",
    "driver.get(link)"
   ]
  },
  {
   "cell_type": "code",
   "execution_count": 948,
   "id": "cf925aa8",
   "metadata": {},
   "outputs": [],
   "source": [
    "p_titles.append('{'+link+'}'+'NOT AVAILABLE')\n",
    "p_price.append('{'+link+'}'+'NOT AVAILABLE')\n",
    "p_imgs.append('{'+link+'}'+'NOT AVAILABLE')\n",
    "#p_abt.append('{'+link+'}'+'NOT AVAILABLE')\n",
    "p_desc.append('{'+link+'}'+'NOT AVAILABLE')"
   ]
  },
  {
   "cell_type": "code",
   "execution_count": 949,
   "id": "b185763d",
   "metadata": {},
   "outputs": [],
   "source": [
    "driver.close()"
   ]
  },
  {
   "cell_type": "code",
   "execution_count": 105,
   "id": "8bf2a588",
   "metadata": {},
   "outputs": [],
   "source": [
    "# For products "
   ]
  },
  {
   "cell_type": "code",
   "execution_count": 142,
   "id": "36167f25",
   "metadata": {},
   "outputs": [
    {
     "name": "stdout",
     "output_type": "stream",
     "text": [
      "Old Spice Shaving Cream - 70 g (original) - Pack of 2\n",
      "€8.00\n",
      "https://m.media-amazon.com/images/I/41xHbjdSXJL._PIbundle-2,TopRight,0,0_SX480SY300SH20_.jpg\n",
      "Item Package Dimensions L x W x H 18.3 x 6.7 x 3.9 centimetres\n",
      "Package Weight 0.18 Kilograms\n",
      "Item Weight 0.15 Pounds\n",
      "Manufacturer Old Spice\n",
      "Brand Name Old Spice\n",
      "Item Form Creme,Schaum\n",
      "Scent Rasur\n",
      "Item model number SG_000004458X_US\n",
      "Package Dimensions 18.29 x 6.71 x 3.91 cm; 68.04 Grams\n",
      "ASIN 000004458X\n"
     ]
    }
   ],
   "source": [
    "\n",
    "    \n",
    "    \n",
    "    title = driver.find_element_by_id('productTitle').text\n",
    "    print(title)\n",
    "    p1 = driver.find_element_by_xpath(\"//span[@class='a-price-symbol']\").text\n",
    "    p2 = driver.find_element_by_xpath(\"//span[@class='a-price-whole']\").text\n",
    "    p4 = driver.find_element_by_xpath(\"//span[@class='a-price-fraction']\").text\n",
    "    price=p1+p2+\".\"+p4\n",
    "    print(price)\n",
    "    img = driver.find_element_by_xpath(\"//img[@id='landingImage']\").get_attribute('src')\n",
    "    print(img)\n",
    "    #abt = driver.find_element_by_xpath(\"//ul[@class='a-unordered-list a-vertical a-spacing-mini']\").text\n",
    "    #print(abt)\n",
    "    desc = driver.find_element_by_id('productDetails_techSpec_section_1').text\n",
    "    print(desc)\n",
    "    \n"
   ]
  },
  {
   "cell_type": "code",
   "execution_count": 143,
   "id": "6c4758d7",
   "metadata": {},
   "outputs": [
    {
     "name": "stdout",
     "output_type": "stream",
     "text": [
      "['{https://www.amazon.de/dp/1015}NOT AVAILABLE', '{https://www.amazon.fr/dp/1015}NOT AVAILABLE', 'Old Spice Shaving Cream - 70 g (original) - Pack of 2']\n",
      "['{https://www.amazon.de/dp/1015}NOT AVAILABLE', '{https://www.amazon.fr/dp/1015}NOT AVAILABLE', '€8.00']\n",
      "['{https://www.amazon.de/dp/1015}NOT AVAILABLE', '{https://www.amazon.fr/dp/1015}NOT AVAILABLE', 'https://m.media-amazon.com/images/I/41xHbjdSXJL._PIbundle-2,TopRight,0,0_SX480SY300SH20_.jpg']\n",
      "['{https://www.amazon.de/dp/1015}NOT AVAILABLE', '{https://www.amazon.fr/dp/1015}NOT AVAILABLE', 'Item Package Dimensions L x W x H 18.3 x 6.7 x 3.9 centimetres\\nPackage Weight 0.18 Kilograms\\nItem Weight 0.15 Pounds\\nManufacturer Old Spice\\nBrand Name Old Spice\\nItem Form Creme,Schaum\\nScent Rasur\\nItem model number SG_000004458X_US\\nPackage Dimensions 18.29 x 6.71 x 3.91 cm; 68.04 Grams\\nASIN 000004458X']\n"
     ]
    }
   ],
   "source": [
    "p_titles.append(title)\n",
    "p_price.append(price)\n",
    "p_imgs.append(img)\n",
    "#p_abt.append(abt)\n",
    "p_desc.append(desc)\n",
    "print(p_titles)\n",
    "print(p_price)\n",
    "print(p_imgs)\n",
    "#print(p_abt)\n",
    "print(p_desc)"
   ]
  },
  {
   "cell_type": "code",
   "execution_count": 144,
   "id": "83f4947c",
   "metadata": {},
   "outputs": [],
   "source": [
    "driver.close()"
   ]
  },
  {
   "cell_type": "code",
   "execution_count": 230,
   "id": "25263744",
   "metadata": {},
   "outputs": [],
   "source": []
  },
  {
   "cell_type": "code",
   "execution_count": null,
   "id": "0f9003fd",
   "metadata": {},
   "outputs": [],
   "source": [
    "#For normal working"
   ]
  },
  {
   "cell_type": "code",
   "execution_count": 926,
   "id": "d89f706b",
   "metadata": {},
   "outputs": [
    {
     "name": "stdout",
     "output_type": "stream",
     "text": [
      "Violinkonzert 2 d-dur kv 211\n",
      "25,01 €\n",
      "https://images-na.ssl-images-amazon.com/images/I/51Qp-R83kUL._SX375_BO1,204,203,200_.jpg\n",
      "Détails sur le produit\n",
      "Éditeur : BREITKOPF (1 janvier 2000)\n",
      "Langue : Français\n",
      "ISBN-10 : 000416105X\n",
      "ISBN-13 : 978-0004161051\n",
      "Poids de l'article : 340 g\n"
     ]
    }
   ],
   "source": [
    "    \n",
    "    \n",
    "    title = driver.find_element_by_id('productTitle').text\n",
    "    print(title)\n",
    "    p1 = driver.find_element_by_xpath(\"//span[@class='a-color-base']\").text\n",
    "    #p2 = driver.find_element_by_xpath(\"//span[@class='a-price-whole']\").text\n",
    "    #p4 = driver.find_element_by_xpath(\"//span[@class='a-price-fraction']\").text\n",
    "    price=p1\n",
    "    print(price)\n",
    "    img = driver.find_element_by_xpath(\"//img[@id='imgBlkFront']\").get_attribute('src')\n",
    "    print(img)\n",
    "    #abt = driver.find_element_by_xpath(\"//ul[@class='a-unordered-list a-vertical a-spacing-mini']\").text\n",
    "    #print(abt)\n",
    "    desc = driver.find_element_by_id('detailBullets_feature_div').text\n",
    "    print(desc)\n"
   ]
  },
  {
   "cell_type": "code",
   "execution_count": 927,
   "id": "fee34038",
   "metadata": {},
   "outputs": [
    {
     "name": "stdout",
     "output_type": "stream",
     "text": [
      "['{https://www.amazon.fr/dp/1145452}NOT AVAILABLE', '{https://www.amazon.de/dp/1147102}NOT AVAILABLE', '{https://www.amazon.fr/dp/1147102}NOT AVAILABLE', '{https://www.amazon.de/dp/1148516}NOT AVAILABLE', '{https://www.amazon.fr/dp/1148516}NOT AVAILABLE', '{https://www.amazon.de/dp/1149458}NOT AVAILABLE', '{https://www.amazon.fr/dp/1149458}NOT AVAILABLE', '{https://www.amazon.de/dp/1150251}NOT AVAILABLE', '{https://www.amazon.fr/dp/1150251}NOT AVAILABLE', '{https://www.amazon.de/dp/1150456}NOT AVAILABLE', '{https://www.amazon.fr/dp/1150456}NOT AVAILABLE', '{https://www.amazon.fr/dp/1151827}NOT AVAILABLE', '{https://www.amazon.it/dp/1151827}NOT AVAILABLE', '{https://www.amazon.de/dp/1152661}NOT AVAILABLE', '{https://www.amazon.fr/dp/1152661}NOT AVAILABLE', '{https://www.amazon.de/dp/1153226}NOT AVAILABLE', '{https://www.amazon.fr/dp/1153226}NOT AVAILABLE', '{https://www.amazon.de/dp/1153234}NOT AVAILABLE', '{https://www.amazon.fr/dp/1153234}NOT AVAILABLE', '{https://www.amazon.de/dp/1154036}NOT AVAILABLE', '{https://www.amazon.fr/dp/1154036}NOT AVAILABLE', 'Viola Spaces: Contemporary Viola Studies. Band 1. Viola. (Essential Exercises, Band 1)', 'Viola spaces vol. 1 alto', '{https://www.amazon.de/dp/1157078}NOT AVAILABLE', '{https://www.amazon.fr/dp/1157078}NOT AVAILABLE', '{https://www.amazon.fr/dp/1157981}NOT AVAILABLE', '{https://www.amazon.it/dp/1157981}NOT AVAILABLE', '{https://www.amazon.de/dp/1168061}NOT AVAILABLE', '{https://www.amazon.fr/dp/1168061}NOT AVAILABLE', '{https://www.amazon.de/dp/1168266}NOT AVAILABLE', '{https://www.amazon.fr/dp/1168266}NOT AVAILABLE', '{https://www.amazon.de/dp/1170481}NOT AVAILABLE', '{https://www.amazon.fr/dp/1170481}NOT AVAILABLE', '{https://www.amazon.de/dp/1171135}NOT AVAILABLE', '{https://www.amazon.fr/dp/1171135}NOT AVAILABLE', '{https://www.amazon.de/dp/1171550}NOT AVAILABLE', '{https://www.amazon.fr/dp/1171550}NOT AVAILABLE', '{https://www.amazon.de/dp/1172093}NOT AVAILABLE', '{https://www.amazon.fr/dp/1172093}NOT AVAILABLE', '{https://www.amazon.de/dp/1172484}NOT AVAILABLE', '{https://www.amazon.fr/dp/1172484}NOT AVAILABLE', '{https://www.amazon.de/dp/1177737}NOT AVAILABLE', '{https://www.amazon.fr/dp/1177737}NOT AVAILABLE', '{https://www.amazon.de/dp/1178490}NOT AVAILABLE', '{https://www.amazon.fr/dp/1178490}NOT AVAILABLE', '{https://www.amazon.de/dp/1189662}NOT AVAILABLE', '{https://www.amazon.fr/dp/1189662}NOT AVAILABLE', '{https://www.amazon.de/dp/1190903}NOT AVAILABLE', '{https://www.amazon.fr/dp/1190903}NOT AVAILABLE', '{https://www.amazon.de/dp/1193287}NOT AVAILABLE', '{https://www.amazon.fr/dp/1193287}NOT AVAILABLE', '{https://www.amazon.de/dp/1195883}NOT AVAILABLE', '{https://www.amazon.fr/dp/1195883}NOT AVAILABLE', '{https://www.amazon.de/dp/1199013}NOT AVAILABLE', '{https://www.amazon.fr/dp/1199013}NOT AVAILABLE', '{https://www.amazon.de/dp/1200534}NOT AVAILABLE', '{https://www.amazon.fr/dp/1200534}NOT AVAILABLE', '{https://www.amazon.de/dp/1201344}NOT AVAILABLE', '{https://www.amazon.fr/dp/1201344}NOT AVAILABLE', '{https://www.amazon.de/dp/1202405}NOT AVAILABLE', '{https://www.amazon.fr/dp/1202405}NOT AVAILABLE', '{https://www.amazon.de/dp/1203231}NOT AVAILABLE', '{https://www.amazon.fr/dp/1203231}NOT AVAILABLE', '{https://www.amazon.de/dp/2000970}NOT AVAILABLE', '{https://www.amazon.fr/dp/2000970}NOT AVAILABLE', '{https://www.amazon.de/dp/4130251}NOT AVAILABLE', '{https://www.amazon.fr/dp/4130251}NOT AVAILABLE', '{https://www.amazon.de/dp/4132505}NOT AVAILABLE', '{https://www.amazon.fr/dp/4132505}NOT AVAILABLE', '{https://www.amazon.de/dp/4160177}NOT AVAILABLE', '{https://www.amazon.fr/dp/4160177}NOT AVAILABLE', '{https://www.amazon.de/dp/4160266}NOT AVAILABLE', '{https://www.amazon.fr/dp/4160266}NOT AVAILABLE', '{https://www.amazon.de/dp/4160398}NOT AVAILABLE', '{https://www.amazon.fr/dp/4160398}NOT AVAILABLE', '{https://www.amazon.de/dp/4160401}NOT AVAILABLE', '{https://www.amazon.fr/dp/4160401}NOT AVAILABLE', 'Klaviertrio G-Dur Hob XV:15 (EB 1131)', 'Klavier-trio g-dur hob xv: 15', '{https://www.amazon.de/dp/4160592}NOT AVAILABLE', '{https://www.amazon.fr/dp/4160592}NOT AVAILABLE', '{https://www.amazon.de/dp/4160665}NOT AVAILABLE', '{https://www.amazon.fr/dp/4160665}NOT AVAILABLE', '{https://www.amazon.de/dp/4160673}NOT AVAILABLE', '{https://www.amazon.fr/dp/4160673}NOT AVAILABLE', '{https://www.amazon.de/dp/4160800}NOT AVAILABLE', '{https://www.amazon.fr/dp/4160800}NOT AVAILABLE', '{https://www.amazon.de/dp/4160886}NOT AVAILABLE', '{https://www.amazon.fr/dp/4160886}NOT AVAILABLE', '{https://www.amazon.de/dp/4161041}NOT AVAILABLE', '{https://www.amazon.fr/dp/4161041}NOT AVAILABLE', 'VIOLINKONZERT 2 D-DUR KV 211', 'Violinkonzert 2 d-dur kv 211']\n",
      "['{https://www.amazon.fr/dp/1145452}NOT AVAILABLE', '{https://www.amazon.de/dp/1147102}NOT AVAILABLE', '{https://www.amazon.fr/dp/1147102}NOT AVAILABLE', '{https://www.amazon.de/dp/1148516}NOT AVAILABLE', '{https://www.amazon.fr/dp/1148516}NOT AVAILABLE', '{https://www.amazon.de/dp/1149458}NOT AVAILABLE', '{https://www.amazon.fr/dp/1149458}NOT AVAILABLE', '{https://www.amazon.de/dp/1150251}NOT AVAILABLE', '{https://www.amazon.fr/dp/1150251}NOT AVAILABLE', '{https://www.amazon.de/dp/1150456}NOT AVAILABLE', '{https://www.amazon.fr/dp/1150456}NOT AVAILABLE', '{https://www.amazon.fr/dp/1151827}NOT AVAILABLE', '{https://www.amazon.it/dp/1151827}NOT AVAILABLE', '{https://www.amazon.de/dp/1152661}NOT AVAILABLE', '{https://www.amazon.fr/dp/1152661}NOT AVAILABLE', '{https://www.amazon.de/dp/1153226}NOT AVAILABLE', '{https://www.amazon.fr/dp/1153226}NOT AVAILABLE', '{https://www.amazon.de/dp/1153234}NOT AVAILABLE', '{https://www.amazon.fr/dp/1153234}NOT AVAILABLE', '{https://www.amazon.de/dp/1154036}NOT AVAILABLE', '{https://www.amazon.fr/dp/1154036}NOT AVAILABLE', 'from €22.19', '43,02 €', '{https://www.amazon.de/dp/1157078}NOT AVAILABLE', '{https://www.amazon.fr/dp/1157078}NOT AVAILABLE', '{https://www.amazon.fr/dp/1157981}NOT AVAILABLE', '{https://www.amazon.it/dp/1157981}NOT AVAILABLE', '{https://www.amazon.de/dp/1168061}NOT AVAILABLE', '{https://www.amazon.fr/dp/1168061}NOT AVAILABLE', '{https://www.amazon.de/dp/1168266}NOT AVAILABLE', '{https://www.amazon.fr/dp/1168266}NOT AVAILABLE', '{https://www.amazon.de/dp/1170481}NOT AVAILABLE', '{https://www.amazon.fr/dp/1170481}NOT AVAILABLE', '{https://www.amazon.de/dp/1171135}NOT AVAILABLE', '{https://www.amazon.fr/dp/1171135}NOT AVAILABLE', '{https://www.amazon.de/dp/1171550}NOT AVAILABLE', '{https://www.amazon.fr/dp/1171550}NOT AVAILABLE', '{https://www.amazon.de/dp/1172093}NOT AVAILABLE', '{https://www.amazon.fr/dp/1172093}NOT AVAILABLE', '{https://www.amazon.de/dp/1172484}NOT AVAILABLE', '{https://www.amazon.fr/dp/1172484}NOT AVAILABLE', '{https://www.amazon.de/dp/1177737}NOT AVAILABLE', '{https://www.amazon.fr/dp/1177737}NOT AVAILABLE', '{https://www.amazon.de/dp/1178490}NOT AVAILABLE', '{https://www.amazon.fr/dp/1178490}NOT AVAILABLE', '{https://www.amazon.de/dp/1189662}NOT AVAILABLE', '{https://www.amazon.fr/dp/1189662}NOT AVAILABLE', '{https://www.amazon.de/dp/1190903}NOT AVAILABLE', '{https://www.amazon.fr/dp/1190903}NOT AVAILABLE', '{https://www.amazon.de/dp/1193287}NOT AVAILABLE', '{https://www.amazon.fr/dp/1193287}NOT AVAILABLE', '{https://www.amazon.de/dp/1195883}NOT AVAILABLE', '{https://www.amazon.fr/dp/1195883}NOT AVAILABLE', '{https://www.amazon.de/dp/1199013}NOT AVAILABLE', '{https://www.amazon.fr/dp/1199013}NOT AVAILABLE', '{https://www.amazon.de/dp/1200534}NOT AVAILABLE', '{https://www.amazon.fr/dp/1200534}NOT AVAILABLE', '{https://www.amazon.de/dp/1201344}NOT AVAILABLE', '{https://www.amazon.fr/dp/1201344}NOT AVAILABLE', '{https://www.amazon.de/dp/1202405}NOT AVAILABLE', '{https://www.amazon.fr/dp/1202405}NOT AVAILABLE', '{https://www.amazon.de/dp/1203231}NOT AVAILABLE', '{https://www.amazon.fr/dp/1203231}NOT AVAILABLE', '{https://www.amazon.de/dp/2000970}NOT AVAILABLE', '{https://www.amazon.fr/dp/2000970}NOT AVAILABLE', '{https://www.amazon.de/dp/4130251}NOT AVAILABLE', '{https://www.amazon.fr/dp/4130251}NOT AVAILABLE', '{https://www.amazon.de/dp/4132505}NOT AVAILABLE', '{https://www.amazon.fr/dp/4132505}NOT AVAILABLE', '{https://www.amazon.de/dp/4160177}NOT AVAILABLE', '{https://www.amazon.fr/dp/4160177}NOT AVAILABLE', '{https://www.amazon.de/dp/4160266}NOT AVAILABLE', '{https://www.amazon.fr/dp/4160266}NOT AVAILABLE', '{https://www.amazon.de/dp/4160398}NOT AVAILABLE', '{https://www.amazon.fr/dp/4160398}NOT AVAILABLE', '{https://www.amazon.de/dp/4160401}NOT AVAILABLE', '{https://www.amazon.fr/dp/4160401}NOT AVAILABLE', '€13.90', '15,38 €', '{https://www.amazon.de/dp/4160592}NOT AVAILABLE', '{https://www.amazon.fr/dp/4160592}NOT AVAILABLE', '{https://www.amazon.de/dp/4160665}NOT AVAILABLE', '{https://www.amazon.fr/dp/4160665}NOT AVAILABLE', '{https://www.amazon.de/dp/4160673}NOT AVAILABLE', '{https://www.amazon.fr/dp/4160673}NOT AVAILABLE', '{https://www.amazon.de/dp/4160800}NOT AVAILABLE', '{https://www.amazon.fr/dp/4160800}NOT AVAILABLE', '{https://www.amazon.de/dp/4160886}NOT AVAILABLE', '{https://www.amazon.fr/dp/4160886}NOT AVAILABLE', '{https://www.amazon.de/dp/4161041}NOT AVAILABLE', '{https://www.amazon.fr/dp/4161041}NOT AVAILABLE', '€19.02', '25,01 €']\n",
      "['{https://www.amazon.fr/dp/1145452}NOT AVAILABLE', '{https://www.amazon.de/dp/1147102}NOT AVAILABLE', '{https://www.amazon.fr/dp/1147102}NOT AVAILABLE', '{https://www.amazon.de/dp/1148516}NOT AVAILABLE', '{https://www.amazon.fr/dp/1148516}NOT AVAILABLE', '{https://www.amazon.de/dp/1149458}NOT AVAILABLE', '{https://www.amazon.fr/dp/1149458}NOT AVAILABLE', '{https://www.amazon.de/dp/1150251}NOT AVAILABLE', '{https://www.amazon.fr/dp/1150251}NOT AVAILABLE', '{https://www.amazon.de/dp/1150456}NOT AVAILABLE', '{https://www.amazon.fr/dp/1150456}NOT AVAILABLE', '{https://www.amazon.fr/dp/1151827}NOT AVAILABLE', '{https://www.amazon.it/dp/1151827}NOT AVAILABLE', '{https://www.amazon.de/dp/1152661}NOT AVAILABLE', '{https://www.amazon.fr/dp/1152661}NOT AVAILABLE', '{https://www.amazon.de/dp/1153226}NOT AVAILABLE', '{https://www.amazon.fr/dp/1153226}NOT AVAILABLE', '{https://www.amazon.de/dp/1153234}NOT AVAILABLE', '{https://www.amazon.fr/dp/1153234}NOT AVAILABLE', '{https://www.amazon.de/dp/1154036}NOT AVAILABLE', '{https://www.amazon.fr/dp/1154036}NOT AVAILABLE', 'https://images-na.ssl-images-amazon.com/images/I/41Y-4h2wgsL._SX379_BO1,204,203,200_.jpg', 'https://images-na.ssl-images-amazon.com/images/I/41Y-4h2wgsL._SX379_BO1,204,203,200_.jpg', '{https://www.amazon.de/dp/1157078}NOT AVAILABLE', '{https://www.amazon.fr/dp/1157078}NOT AVAILABLE', '{https://www.amazon.fr/dp/1157981}NOT AVAILABLE', '{https://www.amazon.it/dp/1157981}NOT AVAILABLE', '{https://www.amazon.de/dp/1168061}NOT AVAILABLE', '{https://www.amazon.fr/dp/1168061}NOT AVAILABLE', '{https://www.amazon.de/dp/1168266}NOT AVAILABLE', '{https://www.amazon.fr/dp/1168266}NOT AVAILABLE', '{https://www.amazon.de/dp/1170481}NOT AVAILABLE', '{https://www.amazon.fr/dp/1170481}NOT AVAILABLE', '{https://www.amazon.de/dp/1171135}NOT AVAILABLE', '{https://www.amazon.fr/dp/1171135}NOT AVAILABLE', '{https://www.amazon.de/dp/1171550}NOT AVAILABLE', '{https://www.amazon.fr/dp/1171550}NOT AVAILABLE', '{https://www.amazon.de/dp/1172093}NOT AVAILABLE', '{https://www.amazon.fr/dp/1172093}NOT AVAILABLE', '{https://www.amazon.de/dp/1172484}NOT AVAILABLE', '{https://www.amazon.fr/dp/1172484}NOT AVAILABLE', '{https://www.amazon.de/dp/1177737}NOT AVAILABLE', '{https://www.amazon.fr/dp/1177737}NOT AVAILABLE', '{https://www.amazon.de/dp/1178490}NOT AVAILABLE', '{https://www.amazon.fr/dp/1178490}NOT AVAILABLE', '{https://www.amazon.de/dp/1189662}NOT AVAILABLE', '{https://www.amazon.fr/dp/1189662}NOT AVAILABLE', '{https://www.amazon.de/dp/1190903}NOT AVAILABLE', '{https://www.amazon.fr/dp/1190903}NOT AVAILABLE', '{https://www.amazon.de/dp/1193287}NOT AVAILABLE', '{https://www.amazon.fr/dp/1193287}NOT AVAILABLE', '{https://www.amazon.de/dp/1195883}NOT AVAILABLE', '{https://www.amazon.fr/dp/1195883}NOT AVAILABLE', '{https://www.amazon.de/dp/1199013}NOT AVAILABLE', '{https://www.amazon.fr/dp/1199013}NOT AVAILABLE', '{https://www.amazon.de/dp/1200534}NOT AVAILABLE', '{https://www.amazon.fr/dp/1200534}NOT AVAILABLE', '{https://www.amazon.de/dp/1201344}NOT AVAILABLE', '{https://www.amazon.fr/dp/1201344}NOT AVAILABLE', '{https://www.amazon.de/dp/1202405}NOT AVAILABLE', '{https://www.amazon.fr/dp/1202405}NOT AVAILABLE', '{https://www.amazon.de/dp/1203231}NOT AVAILABLE', '{https://www.amazon.fr/dp/1203231}NOT AVAILABLE', '{https://www.amazon.de/dp/2000970}NOT AVAILABLE', '{https://www.amazon.fr/dp/2000970}NOT AVAILABLE', '{https://www.amazon.de/dp/4130251}NOT AVAILABLE', '{https://www.amazon.fr/dp/4130251}NOT AVAILABLE', '{https://www.amazon.de/dp/4132505}NOT AVAILABLE', '{https://www.amazon.fr/dp/4132505}NOT AVAILABLE', '{https://www.amazon.de/dp/4160177}NOT AVAILABLE', '{https://www.amazon.fr/dp/4160177}NOT AVAILABLE', '{https://www.amazon.de/dp/4160266}NOT AVAILABLE', '{https://www.amazon.fr/dp/4160266}NOT AVAILABLE', '{https://www.amazon.de/dp/4160398}NOT AVAILABLE', '{https://www.amazon.fr/dp/4160398}NOT AVAILABLE', '{https://www.amazon.de/dp/4160401}NOT AVAILABLE', '{https://www.amazon.fr/dp/4160401}NOT AVAILABLE', 'https://images-na.ssl-images-amazon.com/images/I/41zx75efEBL._SX376_BO1,204,203,200_.jpg', 'https://images-na.ssl-images-amazon.com/images/I/41zx75efEBL._SX376_BO1,204,203,200_.jpg', '{https://www.amazon.de/dp/4160592}NOT AVAILABLE', '{https://www.amazon.fr/dp/4160592}NOT AVAILABLE', '{https://www.amazon.de/dp/4160665}NOT AVAILABLE', '{https://www.amazon.fr/dp/4160665}NOT AVAILABLE', '{https://www.amazon.de/dp/4160673}NOT AVAILABLE', '{https://www.amazon.fr/dp/4160673}NOT AVAILABLE', '{https://www.amazon.de/dp/4160800}NOT AVAILABLE', '{https://www.amazon.fr/dp/4160800}NOT AVAILABLE', '{https://www.amazon.de/dp/4160886}NOT AVAILABLE', '{https://www.amazon.fr/dp/4160886}NOT AVAILABLE', '{https://www.amazon.de/dp/4161041}NOT AVAILABLE', '{https://www.amazon.fr/dp/4161041}NOT AVAILABLE', 'https://images-na.ssl-images-amazon.com/images/I/51Qp-R83kUL._SX375_BO1,204,203,200_.jpg', 'https://images-na.ssl-images-amazon.com/images/I/51Qp-R83kUL._SX375_BO1,204,203,200_.jpg']\n",
      "['{https://www.amazon.fr/dp/1145452}NOT AVAILABLE', '{https://www.amazon.de/dp/1147102}NOT AVAILABLE', '{https://www.amazon.fr/dp/1147102}NOT AVAILABLE', '{https://www.amazon.de/dp/1148516}NOT AVAILABLE', '{https://www.amazon.fr/dp/1148516}NOT AVAILABLE', '{https://www.amazon.de/dp/1149458}NOT AVAILABLE', '{https://www.amazon.fr/dp/1149458}NOT AVAILABLE', '{https://www.amazon.de/dp/1150251}NOT AVAILABLE', '{https://www.amazon.fr/dp/1150251}NOT AVAILABLE', '{https://www.amazon.de/dp/1150456}NOT AVAILABLE', '{https://www.amazon.fr/dp/1150456}NOT AVAILABLE', '{https://www.amazon.fr/dp/1151827}NOT AVAILABLE', '{https://www.amazon.it/dp/1151827}NOT AVAILABLE', '{https://www.amazon.de/dp/1152661}NOT AVAILABLE', '{https://www.amazon.fr/dp/1152661}NOT AVAILABLE', '{https://www.amazon.de/dp/1153226}NOT AVAILABLE', '{https://www.amazon.fr/dp/1153226}NOT AVAILABLE', '{https://www.amazon.de/dp/1153234}NOT AVAILABLE', '{https://www.amazon.fr/dp/1153234}NOT AVAILABLE', '{https://www.amazon.de/dp/1154036}NOT AVAILABLE', '{https://www.amazon.fr/dp/1154036}NOT AVAILABLE', 'Product details\\nPublisher : SCHOTT MUSIC GmbH & Co KG, Mainz (9 Mar. 2009)\\nLanguage : German, English\\nSheet music : 48 pages\\nISBN-10 : 000115687X\\nISBN-13 : 978-0001156876\\nBest Sellers Rank: 4,132,082 in Books (See Top 100 in Books)\\n108 in Viola Songbooks\\n13,952 in String Instruments (Books)\\n18,898 in Music Instruction & Study', \"Détails sur le produit\\nÉditeur : SCHOTT (1 janvier 2009)\\nLangue : Allemand, Anglais\\nISBN-10 : 000115687X\\nISBN-13 : 978-0001156876\\nPoids de l'article : 801 g\", '{https://www.amazon.de/dp/1157078}NOT AVAILABLE', '{https://www.amazon.fr/dp/1157078}NOT AVAILABLE', '{https://www.amazon.fr/dp/1157981}NOT AVAILABLE', '{https://www.amazon.it/dp/1157981}NOT AVAILABLE', '{https://www.amazon.de/dp/1168061}NOT AVAILABLE', '{https://www.amazon.fr/dp/1168061}NOT AVAILABLE', '{https://www.amazon.de/dp/1168266}NOT AVAILABLE', '{https://www.amazon.fr/dp/1168266}NOT AVAILABLE', '{https://www.amazon.de/dp/1170481}NOT AVAILABLE', '{https://www.amazon.fr/dp/1170481}NOT AVAILABLE', '{https://www.amazon.de/dp/1171135}NOT AVAILABLE', '{https://www.amazon.fr/dp/1171135}NOT AVAILABLE', '{https://www.amazon.de/dp/1171550}NOT AVAILABLE', '{https://www.amazon.fr/dp/1171550}NOT AVAILABLE', '{https://www.amazon.de/dp/1172093}NOT AVAILABLE', '{https://www.amazon.fr/dp/1172093}NOT AVAILABLE', '{https://www.amazon.de/dp/1172484}NOT AVAILABLE', '{https://www.amazon.fr/dp/1172484}NOT AVAILABLE', '{https://www.amazon.de/dp/1177737}NOT AVAILABLE', '{https://www.amazon.fr/dp/1177737}NOT AVAILABLE', '{https://www.amazon.de/dp/1178490}NOT AVAILABLE', '{https://www.amazon.fr/dp/1178490}NOT AVAILABLE', '{https://www.amazon.de/dp/1189662}NOT AVAILABLE', '{https://www.amazon.fr/dp/1189662}NOT AVAILABLE', '{https://www.amazon.de/dp/1190903}NOT AVAILABLE', '{https://www.amazon.fr/dp/1190903}NOT AVAILABLE', '{https://www.amazon.de/dp/1193287}NOT AVAILABLE', '{https://www.amazon.fr/dp/1193287}NOT AVAILABLE', '{https://www.amazon.de/dp/1195883}NOT AVAILABLE', '{https://www.amazon.fr/dp/1195883}NOT AVAILABLE', '{https://www.amazon.de/dp/1199013}NOT AVAILABLE', '{https://www.amazon.fr/dp/1199013}NOT AVAILABLE', '{https://www.amazon.de/dp/1200534}NOT AVAILABLE', '{https://www.amazon.fr/dp/1200534}NOT AVAILABLE', '{https://www.amazon.de/dp/1201344}NOT AVAILABLE', '{https://www.amazon.fr/dp/1201344}NOT AVAILABLE', '{https://www.amazon.de/dp/1202405}NOT AVAILABLE', '{https://www.amazon.fr/dp/1202405}NOT AVAILABLE', '{https://www.amazon.de/dp/1203231}NOT AVAILABLE', '{https://www.amazon.fr/dp/1203231}NOT AVAILABLE', '{https://www.amazon.de/dp/2000970}NOT AVAILABLE', '{https://www.amazon.fr/dp/2000970}NOT AVAILABLE', '{https://www.amazon.de/dp/4130251}NOT AVAILABLE', '{https://www.amazon.fr/dp/4130251}NOT AVAILABLE', '{https://www.amazon.de/dp/4132505}NOT AVAILABLE', '{https://www.amazon.fr/dp/4132505}NOT AVAILABLE', '{https://www.amazon.de/dp/4160177}NOT AVAILABLE', '{https://www.amazon.fr/dp/4160177}NOT AVAILABLE', '{https://www.amazon.de/dp/4160266}NOT AVAILABLE', '{https://www.amazon.fr/dp/4160266}NOT AVAILABLE', '{https://www.amazon.de/dp/4160398}NOT AVAILABLE', '{https://www.amazon.fr/dp/4160398}NOT AVAILABLE', '{https://www.amazon.de/dp/4160401}NOT AVAILABLE', '{https://www.amazon.fr/dp/4160401}NOT AVAILABLE', 'Product details\\nPublisher : Breitkopf & Härtel (31 May 1966)\\nLanguage : German\\nPaperback : 40 pages\\nISBN-10 : 000416041X\\nISBN-13 : 979-0004160411\\nBest Sellers Rank: 3,853,796 in Books (See Top 100 in Books)\\n70,554 in Scores, Songbooks & Lyrics', \"Détails sur le produit\\nÉditeur : BREITKOPF (1 janvier 2000)\\nLangue : Allemand\\nBroché : 40 pages\\nISBN-10 : 000416041X\\nISBN-13 : 979-0004160411\\nPoids de l'article : 401 g\", '{https://www.amazon.de/dp/4160592}NOT AVAILABLE', '{https://www.amazon.fr/dp/4160592}NOT AVAILABLE', '{https://www.amazon.de/dp/4160665}NOT AVAILABLE', '{https://www.amazon.fr/dp/4160665}NOT AVAILABLE', '{https://www.amazon.de/dp/4160673}NOT AVAILABLE', '{https://www.amazon.fr/dp/4160673}NOT AVAILABLE', '{https://www.amazon.de/dp/4160800}NOT AVAILABLE', '{https://www.amazon.fr/dp/4160800}NOT AVAILABLE', '{https://www.amazon.de/dp/4160886}NOT AVAILABLE', '{https://www.amazon.fr/dp/4160886}NOT AVAILABLE', '{https://www.amazon.de/dp/4161041}NOT AVAILABLE', '{https://www.amazon.fr/dp/4161041}NOT AVAILABLE', 'Product details\\nPublisher : BREITKOPF (1 Jan. 2000)\\nLanguage : French\\nISBN-10 : 000416105X\\nISBN-13 : 978-0004161051', \"Détails sur le produit\\nÉditeur : BREITKOPF (1 janvier 2000)\\nLangue : Français\\nISBN-10 : 000416105X\\nISBN-13 : 978-0004161051\\nPoids de l'article : 340 g\"]\n"
     ]
    }
   ],
   "source": [
    "p_titles.append(title)\n",
    "p_price.append(price)\n",
    "p_imgs.append(img)\n",
    "#p_abt.append(abt)\n",
    "p_desc.append(desc)\n",
    "print(p_titles)\n",
    "print(p_price)\n",
    "print(p_imgs)\n",
    "#print(p_abt)\n",
    "print(p_desc)"
   ]
  },
  {
   "cell_type": "code",
   "execution_count": 928,
   "id": "5d93d253",
   "metadata": {},
   "outputs": [],
   "source": [
    "    driver.close()"
   ]
  },
  {
   "cell_type": "code",
   "execution_count": 205,
   "id": "b779a5bb",
   "metadata": {},
   "outputs": [],
   "source": [
    "\n"
   ]
  },
  {
   "cell_type": "code",
   "execution_count": 955,
   "id": "a4fe8687",
   "metadata": {},
   "outputs": [
    {
     "name": "stdout",
     "output_type": "stream",
     "text": [
      "['{https://www.amazon.fr/dp/1145452}NOT AVAILABLE', '{https://www.amazon.de/dp/1147102}NOT AVAILABLE', '{https://www.amazon.fr/dp/1147102}NOT AVAILABLE', '{https://www.amazon.de/dp/1148516}NOT AVAILABLE', '{https://www.amazon.fr/dp/1148516}NOT AVAILABLE', '{https://www.amazon.de/dp/1149458}NOT AVAILABLE', '{https://www.amazon.fr/dp/1149458}NOT AVAILABLE', '{https://www.amazon.de/dp/1150251}NOT AVAILABLE', '{https://www.amazon.fr/dp/1150251}NOT AVAILABLE', '{https://www.amazon.de/dp/1150456}NOT AVAILABLE', '{https://www.amazon.fr/dp/1150456}NOT AVAILABLE', '{https://www.amazon.fr/dp/1151827}NOT AVAILABLE', '{https://www.amazon.it/dp/1151827}NOT AVAILABLE', '{https://www.amazon.de/dp/1152661}NOT AVAILABLE', '{https://www.amazon.fr/dp/1152661}NOT AVAILABLE', '{https://www.amazon.de/dp/1153226}NOT AVAILABLE', '{https://www.amazon.fr/dp/1153226}NOT AVAILABLE', '{https://www.amazon.de/dp/1153234}NOT AVAILABLE', '{https://www.amazon.fr/dp/1153234}NOT AVAILABLE', '{https://www.amazon.de/dp/1154036}NOT AVAILABLE', '{https://www.amazon.fr/dp/1154036}NOT AVAILABLE', 'from €22.19', '43,02 €', '{https://www.amazon.de/dp/1157078}NOT AVAILABLE', '{https://www.amazon.fr/dp/1157078}NOT AVAILABLE', '{https://www.amazon.fr/dp/1157981}NOT AVAILABLE', '{https://www.amazon.it/dp/1157981}NOT AVAILABLE', '{https://www.amazon.de/dp/1168061}NOT AVAILABLE', '{https://www.amazon.fr/dp/1168061}NOT AVAILABLE', '{https://www.amazon.de/dp/1168266}NOT AVAILABLE', '{https://www.amazon.fr/dp/1168266}NOT AVAILABLE', '{https://www.amazon.de/dp/1170481}NOT AVAILABLE', '{https://www.amazon.fr/dp/1170481}NOT AVAILABLE', '{https://www.amazon.de/dp/1171135}NOT AVAILABLE', '{https://www.amazon.fr/dp/1171135}NOT AVAILABLE', '{https://www.amazon.de/dp/1171550}NOT AVAILABLE', '{https://www.amazon.fr/dp/1171550}NOT AVAILABLE', '{https://www.amazon.de/dp/1172093}NOT AVAILABLE', '{https://www.amazon.fr/dp/1172093}NOT AVAILABLE', '{https://www.amazon.de/dp/1172484}NOT AVAILABLE', '{https://www.amazon.fr/dp/1172484}NOT AVAILABLE', '{https://www.amazon.de/dp/1177737}NOT AVAILABLE', '{https://www.amazon.fr/dp/1177737}NOT AVAILABLE', '{https://www.amazon.de/dp/1178490}NOT AVAILABLE', '{https://www.amazon.fr/dp/1178490}NOT AVAILABLE', '{https://www.amazon.de/dp/1189662}NOT AVAILABLE', '{https://www.amazon.fr/dp/1189662}NOT AVAILABLE', '{https://www.amazon.de/dp/1190903}NOT AVAILABLE', '{https://www.amazon.fr/dp/1190903}NOT AVAILABLE', '{https://www.amazon.de/dp/1193287}NOT AVAILABLE', '{https://www.amazon.fr/dp/1193287}NOT AVAILABLE', '{https://www.amazon.de/dp/1195883}NOT AVAILABLE', '{https://www.amazon.fr/dp/1195883}NOT AVAILABLE', '{https://www.amazon.de/dp/1199013}NOT AVAILABLE', '{https://www.amazon.fr/dp/1199013}NOT AVAILABLE', '{https://www.amazon.de/dp/1200534}NOT AVAILABLE', '{https://www.amazon.fr/dp/1200534}NOT AVAILABLE', '{https://www.amazon.de/dp/1201344}NOT AVAILABLE', '{https://www.amazon.fr/dp/1201344}NOT AVAILABLE', '{https://www.amazon.de/dp/1202405}NOT AVAILABLE', '{https://www.amazon.fr/dp/1202405}NOT AVAILABLE', '{https://www.amazon.de/dp/1203231}NOT AVAILABLE', '{https://www.amazon.fr/dp/1203231}NOT AVAILABLE', '{https://www.amazon.de/dp/2000970}NOT AVAILABLE', '{https://www.amazon.fr/dp/2000970}NOT AVAILABLE', '{https://www.amazon.de/dp/4130251}NOT AVAILABLE', '{https://www.amazon.fr/dp/4130251}NOT AVAILABLE', '{https://www.amazon.de/dp/4132505}NOT AVAILABLE', '{https://www.amazon.fr/dp/4132505}NOT AVAILABLE', '{https://www.amazon.de/dp/4160177}NOT AVAILABLE', '{https://www.amazon.fr/dp/4160177}NOT AVAILABLE', '{https://www.amazon.de/dp/4160266}NOT AVAILABLE', '{https://www.amazon.fr/dp/4160266}NOT AVAILABLE', '{https://www.amazon.de/dp/4160398}NOT AVAILABLE', '{https://www.amazon.fr/dp/4160398}NOT AVAILABLE', '{https://www.amazon.de/dp/4160401}NOT AVAILABLE', '{https://www.amazon.fr/dp/4160401}NOT AVAILABLE', '€13.90', '15,38 €', '{https://www.amazon.de/dp/4160592}NOT AVAILABLE', '{https://www.amazon.fr/dp/4160592}NOT AVAILABLE', '{https://www.amazon.de/dp/4160665}NOT AVAILABLE', '{https://www.amazon.fr/dp/4160665}NOT AVAILABLE', '{https://www.amazon.de/dp/4160673}NOT AVAILABLE', '{https://www.amazon.fr/dp/4160673}NOT AVAILABLE', '{https://www.amazon.de/dp/4160800}NOT AVAILABLE', '{https://www.amazon.fr/dp/4160800}NOT AVAILABLE', '{https://www.amazon.de/dp/4160886}NOT AVAILABLE', '{https://www.amazon.fr/dp/4160886}NOT AVAILABLE', '{https://www.amazon.de/dp/4161041}NOT AVAILABLE', '{https://www.amazon.fr/dp/4161041}NOT AVAILABLE', '€19.02', '25,01 €', '{https://www.amazon.de/dp/4161114}NOT AVAILABLE', '{https://www.amazon.fr/dp/4161114}NOT AVAILABLE', '{https://www.amazon.de/dp/4161130}NOT AVAILABLE', '{https://www.amazon.fr/dp/4161130}NOT AVAILABLE', '{https://www.amazon.de/dp/4161149}NOT AVAILABLE', '{https://www.amazon.fr/dp/4161149}NOT AVAILABLE', '{https://www.amazon.de/dp/4161262}NOT AVAILABLE']\n"
     ]
    }
   ],
   "source": [
    "#print(p_titles)\n",
    "#print(p_price)\n",
    "#print(p_imgs)\n",
    "#print(p_abt)\n",
    "#print(p_price)\n"
   ]
  },
  {
   "cell_type": "code",
   "execution_count": 477,
   "id": "2d368e7d",
   "metadata": {},
   "outputs": [],
   "source": [
    "#Converting the ouput to json"
   ]
  },
  {
   "cell_type": "code",
   "execution_count": 951,
   "id": "06b9abcc",
   "metadata": {},
   "outputs": [],
   "source": [
    "import json"
   ]
  },
  {
   "cell_type": "code",
   "execution_count": 952,
   "id": "2c6c90a3",
   "metadata": {},
   "outputs": [],
   "source": [
    "pt=[]\n",
    "pp=[]\n",
    "pi=[]\n",
    "pdesc=[]\n",
    "for j in range(0,100):\n",
    "    pt.append({p_titles[j]:j})\n",
    "    pp.append({p_price[j]:j})\n",
    "    pi.append({p_imgs[j]:j})\n",
    "    pdesc.append({p_desc[j]:j})   "
   ]
  },
  {
   "cell_type": "code",
   "execution_count": 953,
   "id": "f53bfe89",
   "metadata": {},
   "outputs": [
    {
     "name": "stdout",
     "output_type": "stream",
     "text": [
      "[{\"{https://www.amazon.fr/dp/1145452}NOT AVAILABLE\": 0}, {\"{https://www.amazon.de/dp/1147102}NOT AVAILABLE\": 1}, {\"{https://www.amazon.fr/dp/1147102}NOT AVAILABLE\": 2}, {\"{https://www.amazon.de/dp/1148516}NOT AVAILABLE\": 3}, {\"{https://www.amazon.fr/dp/1148516}NOT AVAILABLE\": 4}, {\"{https://www.amazon.de/dp/1149458}NOT AVAILABLE\": 5}, {\"{https://www.amazon.fr/dp/1149458}NOT AVAILABLE\": 6}, {\"{https://www.amazon.de/dp/1150251}NOT AVAILABLE\": 7}, {\"{https://www.amazon.fr/dp/1150251}NOT AVAILABLE\": 8}, {\"{https://www.amazon.de/dp/1150456}NOT AVAILABLE\": 9}, {\"{https://www.amazon.fr/dp/1150456}NOT AVAILABLE\": 10}, {\"{https://www.amazon.fr/dp/1151827}NOT AVAILABLE\": 11}, {\"{https://www.amazon.it/dp/1151827}NOT AVAILABLE\": 12}, {\"{https://www.amazon.de/dp/1152661}NOT AVAILABLE\": 13}, {\"{https://www.amazon.fr/dp/1152661}NOT AVAILABLE\": 14}, {\"{https://www.amazon.de/dp/1153226}NOT AVAILABLE\": 15}, {\"{https://www.amazon.fr/dp/1153226}NOT AVAILABLE\": 16}, {\"{https://www.amazon.de/dp/1153234}NOT AVAILABLE\": 17}, {\"{https://www.amazon.fr/dp/1153234}NOT AVAILABLE\": 18}, {\"{https://www.amazon.de/dp/1154036}NOT AVAILABLE\": 19}, {\"{https://www.amazon.fr/dp/1154036}NOT AVAILABLE\": 20}, {\"from \\u20ac22.19\": 21}, {\"43,02 \\u20ac\": 22}, {\"{https://www.amazon.de/dp/1157078}NOT AVAILABLE\": 23}, {\"{https://www.amazon.fr/dp/1157078}NOT AVAILABLE\": 24}, {\"{https://www.amazon.fr/dp/1157981}NOT AVAILABLE\": 25}, {\"{https://www.amazon.it/dp/1157981}NOT AVAILABLE\": 26}, {\"{https://www.amazon.de/dp/1168061}NOT AVAILABLE\": 27}, {\"{https://www.amazon.fr/dp/1168061}NOT AVAILABLE\": 28}, {\"{https://www.amazon.de/dp/1168266}NOT AVAILABLE\": 29}, {\"{https://www.amazon.fr/dp/1168266}NOT AVAILABLE\": 30}, {\"{https://www.amazon.de/dp/1170481}NOT AVAILABLE\": 31}, {\"{https://www.amazon.fr/dp/1170481}NOT AVAILABLE\": 32}, {\"{https://www.amazon.de/dp/1171135}NOT AVAILABLE\": 33}, {\"{https://www.amazon.fr/dp/1171135}NOT AVAILABLE\": 34}, {\"{https://www.amazon.de/dp/1171550}NOT AVAILABLE\": 35}, {\"{https://www.amazon.fr/dp/1171550}NOT AVAILABLE\": 36}, {\"{https://www.amazon.de/dp/1172093}NOT AVAILABLE\": 37}, {\"{https://www.amazon.fr/dp/1172093}NOT AVAILABLE\": 38}, {\"{https://www.amazon.de/dp/1172484}NOT AVAILABLE\": 39}, {\"{https://www.amazon.fr/dp/1172484}NOT AVAILABLE\": 40}, {\"{https://www.amazon.de/dp/1177737}NOT AVAILABLE\": 41}, {\"{https://www.amazon.fr/dp/1177737}NOT AVAILABLE\": 42}, {\"{https://www.amazon.de/dp/1178490}NOT AVAILABLE\": 43}, {\"{https://www.amazon.fr/dp/1178490}NOT AVAILABLE\": 44}, {\"{https://www.amazon.de/dp/1189662}NOT AVAILABLE\": 45}, {\"{https://www.amazon.fr/dp/1189662}NOT AVAILABLE\": 46}, {\"{https://www.amazon.de/dp/1190903}NOT AVAILABLE\": 47}, {\"{https://www.amazon.fr/dp/1190903}NOT AVAILABLE\": 48}, {\"{https://www.amazon.de/dp/1193287}NOT AVAILABLE\": 49}, {\"{https://www.amazon.fr/dp/1193287}NOT AVAILABLE\": 50}, {\"{https://www.amazon.de/dp/1195883}NOT AVAILABLE\": 51}, {\"{https://www.amazon.fr/dp/1195883}NOT AVAILABLE\": 52}, {\"{https://www.amazon.de/dp/1199013}NOT AVAILABLE\": 53}, {\"{https://www.amazon.fr/dp/1199013}NOT AVAILABLE\": 54}, {\"{https://www.amazon.de/dp/1200534}NOT AVAILABLE\": 55}, {\"{https://www.amazon.fr/dp/1200534}NOT AVAILABLE\": 56}, {\"{https://www.amazon.de/dp/1201344}NOT AVAILABLE\": 57}, {\"{https://www.amazon.fr/dp/1201344}NOT AVAILABLE\": 58}, {\"{https://www.amazon.de/dp/1202405}NOT AVAILABLE\": 59}, {\"{https://www.amazon.fr/dp/1202405}NOT AVAILABLE\": 60}, {\"{https://www.amazon.de/dp/1203231}NOT AVAILABLE\": 61}, {\"{https://www.amazon.fr/dp/1203231}NOT AVAILABLE\": 62}, {\"{https://www.amazon.de/dp/2000970}NOT AVAILABLE\": 63}, {\"{https://www.amazon.fr/dp/2000970}NOT AVAILABLE\": 64}, {\"{https://www.amazon.de/dp/4130251}NOT AVAILABLE\": 65}, {\"{https://www.amazon.fr/dp/4130251}NOT AVAILABLE\": 66}, {\"{https://www.amazon.de/dp/4132505}NOT AVAILABLE\": 67}, {\"{https://www.amazon.fr/dp/4132505}NOT AVAILABLE\": 68}, {\"{https://www.amazon.de/dp/4160177}NOT AVAILABLE\": 69}, {\"{https://www.amazon.fr/dp/4160177}NOT AVAILABLE\": 70}, {\"{https://www.amazon.de/dp/4160266}NOT AVAILABLE\": 71}, {\"{https://www.amazon.fr/dp/4160266}NOT AVAILABLE\": 72}, {\"{https://www.amazon.de/dp/4160398}NOT AVAILABLE\": 73}, {\"{https://www.amazon.fr/dp/4160398}NOT AVAILABLE\": 74}, {\"{https://www.amazon.de/dp/4160401}NOT AVAILABLE\": 75}, {\"{https://www.amazon.fr/dp/4160401}NOT AVAILABLE\": 76}, {\"\\u20ac13.90\": 77}, {\"15,38 \\u20ac\": 78}, {\"{https://www.amazon.de/dp/4160592}NOT AVAILABLE\": 79}, {\"{https://www.amazon.fr/dp/4160592}NOT AVAILABLE\": 80}, {\"{https://www.amazon.de/dp/4160665}NOT AVAILABLE\": 81}, {\"{https://www.amazon.fr/dp/4160665}NOT AVAILABLE\": 82}, {\"{https://www.amazon.de/dp/4160673}NOT AVAILABLE\": 83}, {\"{https://www.amazon.fr/dp/4160673}NOT AVAILABLE\": 84}, {\"{https://www.amazon.de/dp/4160800}NOT AVAILABLE\": 85}, {\"{https://www.amazon.fr/dp/4160800}NOT AVAILABLE\": 86}, {\"{https://www.amazon.de/dp/4160886}NOT AVAILABLE\": 87}, {\"{https://www.amazon.fr/dp/4160886}NOT AVAILABLE\": 88}, {\"{https://www.amazon.de/dp/4161041}NOT AVAILABLE\": 89}, {\"{https://www.amazon.fr/dp/4161041}NOT AVAILABLE\": 90}, {\"\\u20ac19.02\": 91}, {\"25,01 \\u20ac\": 92}, {\"{https://www.amazon.de/dp/4161114}NOT AVAILABLE\": 93}, {\"{https://www.amazon.fr/dp/4161114}NOT AVAILABLE\": 94}, {\"{https://www.amazon.de/dp/4161130}NOT AVAILABLE\": 95}, {\"{https://www.amazon.fr/dp/4161130}NOT AVAILABLE\": 96}, {\"{https://www.amazon.de/dp/4161149}NOT AVAILABLE\": 97}, {\"{https://www.amazon.fr/dp/4161149}NOT AVAILABLE\": 98}, {\"{https://www.amazon.de/dp/4161262}NOT AVAILABLE\": 99}]\n"
     ]
    }
   ],
   "source": [
    "jsonpt = json.dumps(pt)\n",
    "jsonpp = json.dumps(pp)\n",
    "jsonpi = json.dumps(pi)\n",
    "jsonpdesc = json.dumps(pdesc)\n",
    "\n",
    "print(jsonpp)"
   ]
  },
  {
   "cell_type": "code",
   "execution_count": 954,
   "id": "89e83dfe",
   "metadata": {},
   "outputs": [],
   "source": [
    "jsonFile = open(\"401-500.json\",\"w\")\n",
    "jsonFile.write(jsonpp)\n",
    "jsonFile.write(jsonpt)\n",
    "jsonFile.write(jsonpi)\n",
    "jsonFile.write(jsonpdesc)\n",
    "jsonFile.close()"
   ]
  },
  {
   "cell_type": "code",
   "execution_count": null,
   "id": "24fbe3b7",
   "metadata": {},
   "outputs": [],
   "source": []
  }
 ],
 "metadata": {
  "kernelspec": {
   "display_name": "Python 3",
   "language": "python",
   "name": "python3"
  },
  "language_info": {
   "codemirror_mode": {
    "name": "ipython",
    "version": 3
   },
   "file_extension": ".py",
   "mimetype": "text/x-python",
   "name": "python",
   "nbconvert_exporter": "python",
   "pygments_lexer": "ipython3",
   "version": "3.8.8"
  }
 },
 "nbformat": 4,
 "nbformat_minor": 5
}
